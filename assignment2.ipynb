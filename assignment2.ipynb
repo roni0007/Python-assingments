{
 "cells": [
  {
   "cell_type": "markdown",
   "metadata": {},
   "source": [
    "# Task 1:"
   ]
  },
  {
   "cell_type": "markdown",
   "metadata": {},
   "source": [
    "# problem 1.1"
   ]
  },
  {
   "cell_type": "code",
   "execution_count": 1,
   "metadata": {},
   "outputs": [
    {
     "name": "stdout",
     "output_type": "stream",
     "text": [
      "56\n"
     ]
    }
   ],
   "source": [
    "def myreduce(func, iterable):\n",
    "    it = iter(iterable)\n",
    "    \n",
    "    start = next(it)\n",
    "        \n",
    "    accum_value = start\n",
    "    for x in iterable:\n",
    "        accum_value = func(accum_value, x)\n",
    "    return accum_value\n",
    "seq=[1,2,3,4,5,6,7,8,9,10]\n",
    "m= myreduce(lambda x,y: x+y, seq)\n",
    "print(m)"
   ]
  },
  {
   "cell_type": "markdown",
   "metadata": {},
   "source": [
    "# problem 1.2"
   ]
  },
  {
   "cell_type": "code",
   "execution_count": 2,
   "metadata": {},
   "outputs": [
    {
     "name": "stdout",
     "output_type": "stream",
     "text": [
      "[1, 3, 5, 7, 9]\n"
     ]
    }
   ],
   "source": [
    "def my_filter(func,sequence):\n",
    "    res=[]\n",
    "    for variable in sequence :\n",
    "        if func(variable):\n",
    "            res.append(variable)\n",
    "    return res\n",
    "\n",
    "    \n",
    "seq=[1,2,3,4,5,6,7,8,9,10]\n",
    "\n",
    "m= my_filter(lambda x: x%2!=0 ,seq)\n",
    "print(m)"
   ]
  },
  {
   "cell_type": "markdown",
   "metadata": {},
   "source": [
    "# problem 2"
   ]
  },
  {
   "cell_type": "code",
   "execution_count": 3,
   "metadata": {},
   "outputs": [
    {
     "data": {
      "text/plain": [
       "['A', 'C', 'A', 'D', 'G', 'I', 'L', 'D']"
      ]
     },
     "execution_count": 3,
     "metadata": {},
     "output_type": "execute_result"
    }
   ],
   "source": [
    "[i for i in \"ACADGILD\"]"
   ]
  },
  {
   "cell_type": "code",
   "execution_count": 4,
   "metadata": {},
   "outputs": [
    {
     "data": {
      "text/plain": [
       "['x', 'xx', 'xxx', 'xxxx', 'y', 'yy', 'yyy', 'yyyy', 'z', 'zz', 'zzz', 'zzzz']"
      ]
     },
     "execution_count": 4,
     "metadata": {},
     "output_type": "execute_result"
    }
   ],
   "source": [
    "[(i*j) for i in \"xyz\" for j in range(1,5)]"
   ]
  },
  {
   "cell_type": "code",
   "execution_count": 5,
   "metadata": {},
   "outputs": [
    {
     "data": {
      "text/plain": [
       "['x', 'y', 'j', 'xx', 'yy', 'zz', 'xx', 'yy', 'zz', 'xxxx', 'yyyy', 'zzzz']"
      ]
     },
     "execution_count": 5,
     "metadata": {},
     "output_type": "execute_result"
    }
   ],
   "source": [
    "[i for i in \"xyj\"] + [j*2 for j in \"xyz\" ] + [j*2 for j in \"xyz\" ] + [j*4 for j in \"xyz\" ]"
   ]
  },
  {
   "cell_type": "code",
   "execution_count": 6,
   "metadata": {},
   "outputs": [
    {
     "data": {
      "text/plain": [
       "[[2], [3], [4], [3], [4], [5], [4], [5], [6]]"
      ]
     },
     "execution_count": 6,
     "metadata": {},
     "output_type": "execute_result"
    }
   ],
   "source": [
    "[[i] for i in range (2,5)] + [[i] for i in range (3,6)]+[[i] for i in range (4,7)]"
   ]
  },
  {
   "cell_type": "code",
   "execution_count": 7,
   "metadata": {},
   "outputs": [
    {
     "name": "stdout",
     "output_type": "stream",
     "text": [
      "[2, 3, 4] [3, 4, 5] [4, 5, 6]\n"
     ]
    }
   ],
   "source": [
    "print([i for i in range (2,5)] , [i for i in range (3,6)],[i for i in range (4,7)])"
   ]
  },
  {
   "cell_type": "code",
   "execution_count": 8,
   "metadata": {},
   "outputs": [
    {
     "data": {
      "text/plain": [
       "[(1, 1), (2, 1), (3, 1), (1, 2), (2, 2), (3, 2), (1, 3), (2, 3), (3, 3)]"
      ]
     },
     "execution_count": 8,
     "metadata": {},
     "output_type": "execute_result"
    }
   ],
   "source": [
    "[(j,i) for i in range (1,4) for j in range(1,4)]"
   ]
  },
  {
   "cell_type": "markdown",
   "metadata": {},
   "source": [
    "# problem 3"
   ]
  },
  {
   "cell_type": "code",
   "execution_count": 11,
   "metadata": {},
   "outputs": [
    {
     "name": "stdout",
     "output_type": "stream",
     "text": [
      "educatiuon\n"
     ]
    }
   ],
   "source": [
    "def longestWord(word):\n",
    "    m=[]\n",
    "    for i in word:\n",
    "        m.append(len(i))\n",
    "    t= max(m)\n",
    "    if len(i) == t:\n",
    "        return i\n",
    "x=['go','car','apple','educatiuon']\n",
    "n= longestWord(x)\n",
    "print(n)"
   ]
  },
  {
   "cell_type": "markdown",
   "metadata": {},
   "source": [
    "# Task 2:"
   ]
  },
  {
   "cell_type": "markdown",
   "metadata": {},
   "source": [
    "# problem 1.1"
   ]
  },
  {
   "cell_type": "code",
   "execution_count": 12,
   "metadata": {},
   "outputs": [
    {
     "name": "stdout",
     "output_type": "stream",
     "text": [
      "3\n",
      "4\n",
      "5\n",
      "6.0\n"
     ]
    }
   ],
   "source": [
    "class sides_of_triangle:\n",
    "    def __init__(self,a,b,c):\n",
    "        self.a= a\n",
    "        self.b= b\n",
    "        self.c= c\n",
    "class area_of_triangle(sides_of_triangle):\n",
    "    def __init__(self, *args):\n",
    "        super(area_of_triangle,self).__init__(*args)\n",
    "    def find_area(self):\n",
    "        s= (self.a + self.b +self.c)/2\n",
    "        area= (s*(s-self.a)*(s-self.b)*(s-self.c))**.5\n",
    "        return area\n",
    "a=int(input())\n",
    "b=int(input())\n",
    "c=int(input())\n",
    "abc=area_of_triangle(a,b,c)\n",
    "print(abc.find_area())"
   ]
  },
  {
   "cell_type": "markdown",
   "metadata": {},
   "source": [
    "# problem 1.2"
   ]
  },
  {
   "cell_type": "code",
   "execution_count": 1,
   "metadata": {},
   "outputs": [
    {
     "name": "stdout",
     "output_type": "stream",
     "text": [
      "['father', 'grandfather']\n"
     ]
    }
   ],
   "source": [
    "def filter_long_words(words,n):\n",
    "    m=[]\n",
    "    for i in words:\n",
    "        if len(i)>n:\n",
    "            m.append(i)\n",
    "    print(m)\n",
    "            \n",
    "words= [\"mom\", \"father\", \"grandfather\"]\n",
    "n= 3\n",
    "filter_long_words(words,n)"
   ]
  },
  {
   "cell_type": "markdown",
   "metadata": {},
   "source": [
    "# problem 2.1"
   ]
  },
  {
   "cell_type": "code",
   "execution_count": 2,
   "metadata": {},
   "outputs": [
    {
     "name": "stdout",
     "output_type": "stream",
     "text": [
      "[4, 3, 4]\n"
     ]
    }
   ],
   "source": [
    "def my_func(words):\n",
    "    m=[]\n",
    "    for i in words:\n",
    "        m.append(len(i))\n",
    "    print (m)\n",
    "x= ['roni','deb',\"good\"]\n",
    "my_func(x)\n"
   ]
  },
  {
   "cell_type": "markdown",
   "metadata": {},
   "source": [
    "# problem 2.2"
   ]
  },
  {
   "cell_type": "code",
   "execution_count": 4,
   "metadata": {},
   "outputs": [
    {
     "name": "stdout",
     "output_type": "stream",
     "text": [
      "True\n"
     ]
    }
   ],
   "source": [
    "def check_vowel(let):\n",
    "    \n",
    "    letter=let.lower()\n",
    "    if letter== str and len(letter)== 1 and letter== 'a' or letter== 'e' or letter== 'i' or letter== 'o' or letter== 'u':\n",
    "        return True\n",
    "    else:\n",
    "        return False\n",
    "letter='i'\n",
    "f=check_vowel(letter)\n",
    "print(f)"
   ]
  }
 ],
 "metadata": {
  "kernelspec": {
   "display_name": "Python 3",
   "language": "python",
   "name": "python3"
  },
  "language_info": {
   "codemirror_mode": {
    "name": "ipython",
    "version": 3
   },
   "file_extension": ".py",
   "mimetype": "text/x-python",
   "name": "python",
   "nbconvert_exporter": "python",
   "pygments_lexer": "ipython3",
   "version": "3.7.6"
  }
 },
 "nbformat": 4,
 "nbformat_minor": 4
}
